{
 "cells": [
  {
   "metadata": {},
   "cell_type": "raw",
   "source": "",
   "id": "96875f3ee304298"
  },
  {
   "metadata": {},
   "cell_type": "code",
   "outputs": [],
   "execution_count": null,
   "source": [
    "import numpy as np\n",
    "from tensorflow.keras.preprocessing.image import ImageDataGenerator"
   ],
   "id": "a581b57e884f594a"
  },
  {
   "metadata": {},
   "cell_type": "code",
   "outputs": [],
   "execution_count": null,
   "source": [
    "# 학습 데이터 증강을 위한 ImageDataGenerator 설정\n",
    "train_datagen = ImageDataGenerator(\n",
    "    rescale=1./255,  # 픽셀 값을 [0, 1] 범위로 조정\n",
    "    rotation_range=20,  # 랜덤한 회전 범위\n",
    "    width_shift_range=0.2,  # 랜덤한 수평 이동 범위\n",
    "    height_shift_range=0.2,  # 랜덤한 수직 이동 범위\n",
    "    shear_range=0.2,  # 랜덤한 전단 변환\n",
    "    zoom_range=0.2,  # 랜덤한 확대/축소 범위\n",
    "    horizontal_flip=True,  # 랜덤하게 이미지를 수평으로 뒤집기\n",
    "    fill_mode='nearest'  # 이미지를 이동/회전할 때 생기는 빈 공간을 가장 가까운 픽셀 값으로 채우기\n",
    ")\n",
    "\n",
    "# 검증 데이터 증강을 위한 ImageDataGenerator 설정 (여기서는 단순히 rescale만 사용)\n",
    "val_datagen = ImageDataGenerator(rescale=1./255)\n",
    "\n",
    "# 학습 데이터 로드 및 증강\n",
    "train_generator = train_datagen.flow(X_train, y_train, batch_size=32)\n",
    "# 검증 데이터 로드\n",
    "val_generator = val_datagen.flow(X_val, y_val, batch_size=32)\n"
   ],
   "id": "874bc9fc544d4194"
  }
 ],
 "metadata": {
  "kernelspec": {
   "display_name": "Python 3",
   "language": "python",
   "name": "python3"
  },
  "language_info": {
   "codemirror_mode": {
    "name": "ipython",
    "version": 2
   },
   "file_extension": ".py",
   "mimetype": "text/x-python",
   "name": "python",
   "nbconvert_exporter": "python",
   "pygments_lexer": "ipython2",
   "version": "2.7.6"
  }
 },
 "nbformat": 4,
 "nbformat_minor": 5
}
